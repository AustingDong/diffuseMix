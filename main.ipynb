{
 "cells": [
  {
   "cell_type": "code",
   "execution_count": 1,
   "metadata": {},
   "outputs": [
    {
     "name": "stdout",
     "output_type": "stream",
     "text": [
      "^C\n"
     ]
    },
    {
     "name": "stdout",
     "output_type": "stream",
     "text": [
      "augmenting domain: art_painting\n"
     ]
    },
    {
     "name": "stderr",
     "output_type": "stream",
     "text": [
      "\n",
      "Loading pipeline components...:   0%|          | 0/6 [00:00<?, ?it/s]c:\\Users\\Austi\\anaconda3\\envs\\pytorch_gpu\\lib\\site-packages\\transformers\\tokenization_utils_base.py:1601: FutureWarning: `clean_up_tokenization_spaces` was not set. It will be set to `True` by default. This behavior will be depracted in transformers v4.45, and will be then set to `False` by default. For more details check this issue: https://github.com/huggingface/transformers/issues/31884\n",
      "  warnings.warn(\n",
      "\n",
      "Loading pipeline components...:  33%|███▎      | 2/6 [00:00<00:00, 13.74it/s]\n",
      "Loading pipeline components...:  83%|████████▎ | 5/6 [00:00<00:00, 15.33it/s]\n",
      "Loading pipeline components...: 100%|██████████| 6/6 [00:00<00:00, 13.13it/s]\n",
      "Loading pipeline components...: 100%|██████████| 6/6 [00:00<00:00, 15.38it/s]\n",
      "c:\\Users\\Austi\\anaconda3\\envs\\pytorch_gpu\\lib\\site-packages\\PIL\\TiffImagePlugin.py:793: UserWarning: Corrupt EXIF data.  Expecting to read 4 bytes but only got 0. \n",
      "  warnings.warn(str(msg))\n",
      "Traceback (most recent call last):\n",
      "  File \"c:\\Users\\Austi\\my_projects\\GitHub\\diffuseMix\\main.py\", line 94, in <module>\n",
      "    main()\n",
      "  File \"c:\\Users\\Austi\\my_projects\\GitHub\\diffuseMix\\main.py\", line 87, in main\n",
      "    augment_domain(domain, domain_path, args, prompts)\n",
      "  File \"c:\\Users\\Austi\\my_projects\\GitHub\\diffuseMix\\main.py\", line 60, in augment_domain\n",
      "    augmented_train_dataset = DiffuseMix(\n",
      "  File \"c:\\Users\\Austi\\my_projects\\GitHub\\diffuseMix\\augment\\diffuseMix.py\", line 31, in __init__\n",
      "    self.augmented_images = self.generate_augmented_images()\n",
      "  File \"c:\\Users\\Austi\\my_projects\\GitHub\\diffuseMix\\augment\\diffuseMix.py\", line 106, in generate_augmented_images\n",
      "    category = label_batch[k]\n",
      "IndexError: list index out of range\n"
     ]
    }
   ],
   "source": [
    "train_dir=\"/my/datasets/path/PACS/kfold\"\n",
    "fractal_dir=\"/my/datasets/path/deviantart\"\n",
    "\n",
    "# prompts=f\"{prefix} art painting {suffix},{prefix} cartoon {suffix},{prefix} photo {suffix},{prefix} sketch {suffix}\"\n",
    "prompts = \"art_painting,cartoon,photo,sketch\"\n",
    "\n",
    "! python ./main.py --train_dir {train_dir} --fractal_dir {fractal_dir} --prompts prompts --multi_domain true --num_images=1"
   ]
  }
 ],
 "metadata": {
  "language_info": {
   "name": "python"
  }
 },
 "nbformat": 4,
 "nbformat_minor": 2
}
