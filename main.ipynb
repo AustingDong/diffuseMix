{
 "cells": [
  {
   "cell_type": "code",
   "execution_count": null,
   "metadata": {},
   "outputs": [],
   "source": [
    "prefix=\"convert the image into a high quality and detailed\"\n",
    "suffix=\"style\"\n",
    "train_dir=\"/my/datasets/path/PACS/kfold\"\n",
    "fractal_dir=\"/my/datasets/path/deviantart\"\n",
    "\n",
    "# prompts=f\"{prefix} art painting {suffix},{prefix} cartoon {suffix},{prefix} photo {suffix},{prefix} sketch {suffix}\"\n",
    "styles = [\"watercolor\", \"rainbow\", \"sunset\", \"aurora\", \"snowy\", \"autumn\", \"Ukiyo-e\", \"sketch with crayon\", \"mosaic\"]\n",
    "\n",
    "prompts = \"\"\n",
    "for style in styles:\n",
    "  prompts += f\"{prefix} {style} {suffix},\"\n",
    "\n",
    "! python ./main.py --train_dir {train_dir} --fractal_dir {fractal_dir} --prompts \"{prompts}\" --multi_domain true --num_images=1"
   ]
  }
 ],
 "metadata": {
  "language_info": {
   "name": "python"
  }
 },
 "nbformat": 4,
 "nbformat_minor": 2
}
